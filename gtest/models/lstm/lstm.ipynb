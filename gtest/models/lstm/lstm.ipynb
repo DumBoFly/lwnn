{
 "cells": [
  {
   "cell_type": "code",
   "execution_count": null,
   "metadata": {},
   "outputs": [],
   "source": [
    "import sys\n",
    "import os\n",
    "sys.path.append(os.path.abspath('../../../tools'))\n",
    "import numpy as np\n",
    "from verifyoutput import *\n",
    "from lwnn2torch import *\n",
    "from tf2lwnn import *\n",
    "import onnx\n",
    "import onnxruntime\n",
    "%matplotlib inline"
   ]
  },
  {
   "cell_type": "code",
   "execution_count": null,
   "metadata": {},
   "outputs": [],
   "source": [
    "DEMO_MODEL='Basic_LSTM_S.pb'\n",
    "DEMO_INPUT='/mnt/d/tmp/speech_dataset/yes/0a9f9af7_nohash_1.wav'\n",
    "LABELS=['_silence_','_unknown_','yes','no','up','down','left','right','on','off','stop','go']"
   ]
  },
  {
   "cell_type": "code",
   "execution_count": null,
   "metadata": {},
   "outputs": [],
   "source": [
    "wav_data = np.fromfile(DEMO_INPUT, np.int8).reshape(1, -1)\n",
    "converter = TfConverter(DEMO_MODEL, 'KWS', {'wav_data': wav_data})\n",
    "lwnn_model = converter.convert()"
   ]
  },
  {
   "cell_type": "code",
   "execution_count": null,
   "metadata": {},
   "outputs": [],
   "source": [
    "for layer in lwnn_model:\n",
    "    print(layer)"
   ]
  },
  {
   "cell_type": "code",
   "execution_count": null,
   "metadata": {},
   "outputs": [],
   "source": [
    "itensor = converter.tensors['wav_data']\n",
    "otensor = converter.tensors['labels_softmax']\n",
    "lstm_i = converter.tensors['LSTM-Layer/lstm/transpose']\n",
    "lstm_o = converter.tensors['LSTM-Layer/lstm/rnn/while/Exit_3']"
   ]
  },
  {
   "cell_type": "code",
   "execution_count": null,
   "metadata": {},
   "outputs": [],
   "source": [
    "result, lstm_i_result, lstm_o_result = converter.sess.run([otensor, lstm_i, lstm_o], {itensor: wav_data.tobytes() })"
   ]
  },
  {
   "cell_type": "code",
   "execution_count": null,
   "metadata": {},
   "outputs": [],
   "source": [
    "for k,p in zip(LABELS, result.tolist()[0]):\n",
    "    print('%s: %.2f'%(k, p))"
   ]
  },
  {
   "cell_type": "code",
   "execution_count": null,
   "metadata": {},
   "outputs": [],
   "source": [
    "lstm_i_result.shape, lstm_o_result.shape"
   ]
  },
  {
   "cell_type": "code",
   "execution_count": null,
   "metadata": {},
   "outputs": [],
   "source": [
    "for node in converter.onnx_model.graph.node:\n",
    "    if(node.op_type == 'LSTM'):\n",
    "        lstm_node = node\n",
    "    if(node.op_type == 'Squeeze'):\n",
    "        sq_node = node\n",
    "lstm_node, sq_node"
   ]
  },
  {
   "cell_type": "code",
   "execution_count": null,
   "metadata": {},
   "outputs": [],
   "source": [
    "x = onnx.helper.make_tensor_value_info(lstm_node.input[0], onnx.TensorProto.FLOAT, lstm_i_result.shape)\n",
    "attrs = {}\n",
    "for attr in lstm_node.attribute:\n",
    "    v = onnx.helper.get_attribute_value(attr)\n",
    "    attrs[attr.name] = v\n",
    "node = onnx.helper.make_node(\n",
    "            'LSTM',\n",
    "            name = lstm_node.name,\n",
    "            inputs=lstm_node.input[:4],\n",
    "            outputs=lstm_node.output,\n",
    "            **attrs)\n",
    "outputs = [onnx.helper.make_tensor_value_info(o, onnx.TensorProto.FLOAT, None) for o in sq_node.output]\n",
    "graph = onnx.helper.make_graph(\n",
    "            nodes = [node, sq_node],\n",
    "            name = 'LSTM',\n",
    "            inputs = [x],\n",
    "            outputs = outputs,\n",
    "            value_info = [],\n",
    "            initializer = converter.onnx_model.graph.initializer)\n",
    "model = onnx.helper.make_model(graph, producer_name='lwnn-nhwc')\n",
    "onnx.save(model, '.tmp.onnx')"
   ]
  },
  {
   "cell_type": "code",
   "execution_count": null,
   "metadata": {},
   "outputs": [],
   "source": [
    "sess = onnxruntime.InferenceSession('.tmp.onnx')"
   ]
  },
  {
   "cell_type": "code",
   "execution_count": null,
   "metadata": {},
   "outputs": [],
   "source": [
    "rs = sess.run(None, {lstm_node.input[0]: lstm_i_result })"
   ]
  },
  {
   "cell_type": "code",
   "execution_count": null,
   "metadata": {},
   "outputs": [],
   "source": [
    "rs[0].shape"
   ]
  },
  {
   "cell_type": "code",
   "execution_count": null,
   "metadata": {},
   "outputs": [],
   "source": [
    "compare(lstm_o_result, rs[0])"
   ]
  },
  {
   "cell_type": "code",
   "execution_count": null,
   "metadata": {},
   "outputs": [],
   "source": []
  }
 ],
 "metadata": {
  "kernelspec": {
   "display_name": "Python 3",
   "language": "python",
   "name": "python3"
  },
  "language_info": {
   "codemirror_mode": {
    "name": "ipython",
    "version": 3
   },
   "file_extension": ".py",
   "mimetype": "text/x-python",
   "name": "python",
   "nbconvert_exporter": "python",
   "pygments_lexer": "ipython3",
   "version": "3.6.7"
  }
 },
 "nbformat": 4,
 "nbformat_minor": 2
}
